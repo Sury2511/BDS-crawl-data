{
 "cells": [
  {
   "cell_type": "code",
   "execution_count": 6,
   "id": "d811189e-e29c-4df6-ba2d-f4a6a2e4dfca",
   "metadata": {},
   "outputs": [
    {
     "name": "stdout",
     "output_type": "stream",
     "text": [
      "Collecting mysql-connector-python\n",
      "  Downloading mysql_connector_python-8.3.0-cp311-cp311-win_amd64.whl.metadata (2.0 kB)\n",
      "Downloading mysql_connector_python-8.3.0-cp311-cp311-win_amd64.whl (15.4 MB)\n",
      "   ---------------------------------------- 0.0/15.4 MB ? eta -:--:--\n",
      "   ---------------------------------------- 0.0/15.4 MB ? eta -:--:--\n",
      "   ---------------------------------------- 0.0/15.4 MB 435.7 kB/s eta 0:00:36\n",
      "   ---------------------------------------- 0.1/15.4 MB 751.6 kB/s eta 0:00:21\n",
      "    --------------------------------------- 0.3/15.4 MB 1.6 MB/s eta 0:00:10\n",
      "   - -------------------------------------- 0.6/15.4 MB 3.0 MB/s eta 0:00:05\n",
      "   -- ------------------------------------- 1.1/15.4 MB 4.5 MB/s eta 0:00:04\n",
      "   ---- ----------------------------------- 1.9/15.4 MB 6.4 MB/s eta 0:00:03\n",
      "   ------- -------------------------------- 3.0/15.4 MB 8.7 MB/s eta 0:00:02\n",
      "   --------- ------------------------------ 3.8/15.4 MB 10.2 MB/s eta 0:00:02\n",
      "   ------------- -------------------------- 5.4/15.4 MB 12.3 MB/s eta 0:00:01\n",
      "   ----------------- ---------------------- 6.6/15.4 MB 13.7 MB/s eta 0:00:01\n",
      "   -------------------- ------------------- 7.7/15.4 MB 14.6 MB/s eta 0:00:01\n",
      "   ------------------------ --------------- 9.5/15.4 MB 16.5 MB/s eta 0:00:01\n",
      "   -------------------------- ------------- 10.1/15.4 MB 16.2 MB/s eta 0:00:01\n",
      "   ------------------------------ --------- 11.6/15.4 MB 26.2 MB/s eta 0:00:01\n",
      "   ---------------------------------- ----- 13.1/15.4 MB 27.3 MB/s eta 0:00:01\n",
      "   -------------------------------------- - 14.7/15.4 MB 29.8 MB/s eta 0:00:01\n",
      "   ---------------------------------------  15.4/15.4 MB 27.3 MB/s eta 0:00:01\n",
      "   ---------------------------------------- 15.4/15.4 MB 26.2 MB/s eta 0:00:00\n",
      "Installing collected packages: mysql-connector-python\n",
      "Successfully installed mysql-connector-python-8.3.0\n"
     ]
    }
   ],
   "source": [
    "!pip install mysql-connector-python"
   ]
  },
  {
   "cell_type": "code",
   "execution_count": 7,
   "id": "3d321b59-63f0-4703-8c6b-545a18e8c73e",
   "metadata": {},
   "outputs": [],
   "source": [
    "import mysql.connector"
   ]
  },
  {
   "cell_type": "code",
   "execution_count": 8,
   "id": "f57fc9a4-7219-488a-8a2c-fc3cd44c3403",
   "metadata": {},
   "outputs": [],
   "source": [
    "mydb = mysql.connector.connect(\n",
    "  host=\"103.130.215.35\",\n",
    "  port = \"3307\",\n",
    "  user=\"root\",\n",
    "  password=\"1234\"\n",
    ")"
   ]
  },
  {
   "cell_type": "code",
   "execution_count": 9,
   "id": "c3e692c4-997f-48b9-9192-89199c945d0c",
   "metadata": {},
   "outputs": [
    {
     "name": "stderr",
     "output_type": "stream",
     "text": [
      "IOPub data rate exceeded.\n",
      "The Jupyter server will temporarily stop sending output\n",
      "to the client in order to avoid crashing it.\n",
      "To change this limit, set the config variable\n",
      "`--ServerApp.iopub_data_rate_limit`.\n",
      "\n",
      "Current values:\n",
      "ServerApp.iopub_data_rate_limit=1000000.0 (bytes/sec)\n",
      "ServerApp.rate_limit_window=3.0 (secs)\n",
      "\n"
     ]
    }
   ],
   "source": [
    "try:\n",
    "    with mydb.cursor() as cursor:\n",
    "        cursor.execute(\"USE BDS_DATA;\")\n",
    "        cursor.execute(\"SELECT * FROM nha_dat_ban_tp_hcm where month(date) <= 2 order by date;\")\n",
    "        result = cursor.fetchall() \n",
    "        print(result)\n",
    "finally:\n",
    "    mydb.close()"
   ]
  },
  {
   "cell_type": "code",
   "execution_count": null,
   "id": "31ca4988-3b74-4b8a-bcfd-6108bd134b84",
   "metadata": {},
   "outputs": [],
   "source": []
  }
 ],
 "metadata": {
  "kernelspec": {
   "display_name": "Python 3 (ipykernel)",
   "language": "python",
   "name": "python3"
  },
  "language_info": {
   "codemirror_mode": {
    "name": "ipython",
    "version": 3
   },
   "file_extension": ".py",
   "mimetype": "text/x-python",
   "name": "python",
   "nbconvert_exporter": "python",
   "pygments_lexer": "ipython3",
   "version": "3.11.7"
  }
 },
 "nbformat": 4,
 "nbformat_minor": 5
}
